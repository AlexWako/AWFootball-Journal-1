{
 "cells": [
  {
   "cell_type": "code",
   "execution_count": 50,
   "metadata": {},
   "outputs": [],
   "source": [
    "# Importing Libraries\n",
    "import pandas as pd\n",
    "import numpy as np\n",
    "import matplotlib.pyplot as plt\n",
    "import scipy\n",
    "from scipy import stats"
   ]
  },
  {
   "cell_type": "code",
   "execution_count": 51,
   "metadata": {},
   "outputs": [
    {
     "data": {
      "text/html": [
       "<div>\n",
       "<style scoped>\n",
       "    .dataframe tbody tr th:only-of-type {\n",
       "        vertical-align: middle;\n",
       "    }\n",
       "\n",
       "    .dataframe tbody tr th {\n",
       "        vertical-align: top;\n",
       "    }\n",
       "\n",
       "    .dataframe thead th {\n",
       "        text-align: right;\n",
       "    }\n",
       "</style>\n",
       "<table border=\"1\" class=\"dataframe\">\n",
       "  <thead>\n",
       "    <tr style=\"text-align: right;\">\n",
       "      <th></th>\n",
       "      <th>Team</th>\n",
       "      <th>Window</th>\n",
       "      <th>Season</th>\n",
       "      <th>Expenditure</th>\n",
       "      <th>Rank</th>\n",
       "      <th>Matches Played</th>\n",
       "      <th>Win</th>\n",
       "      <th>Draw</th>\n",
       "      <th>Lost</th>\n",
       "      <th>Points</th>\n",
       "      <th>Win Percent</th>\n",
       "    </tr>\n",
       "  </thead>\n",
       "  <tbody>\n",
       "    <tr>\n",
       "      <th>0</th>\n",
       "      <td>Arsenal</td>\n",
       "      <td>Winter</td>\n",
       "      <td>22 - 23</td>\n",
       "      <td>192.36</td>\n",
       "      <td>NaN</td>\n",
       "      <td>NaN</td>\n",
       "      <td>NaN</td>\n",
       "      <td>NaN</td>\n",
       "      <td>NaN</td>\n",
       "      <td>NaN</td>\n",
       "      <td>NaN</td>\n",
       "    </tr>\n",
       "    <tr>\n",
       "      <th>1</th>\n",
       "      <td>Manchester City</td>\n",
       "      <td>Winter</td>\n",
       "      <td>22 - 23</td>\n",
       "      <td>150.50</td>\n",
       "      <td>NaN</td>\n",
       "      <td>NaN</td>\n",
       "      <td>NaN</td>\n",
       "      <td>NaN</td>\n",
       "      <td>NaN</td>\n",
       "      <td>NaN</td>\n",
       "      <td>NaN</td>\n",
       "    </tr>\n",
       "    <tr>\n",
       "      <th>2</th>\n",
       "      <td>Newcastle</td>\n",
       "      <td>Winter</td>\n",
       "      <td>22 - 23</td>\n",
       "      <td>185.35</td>\n",
       "      <td>NaN</td>\n",
       "      <td>NaN</td>\n",
       "      <td>NaN</td>\n",
       "      <td>NaN</td>\n",
       "      <td>NaN</td>\n",
       "      <td>NaN</td>\n",
       "      <td>NaN</td>\n",
       "    </tr>\n",
       "    <tr>\n",
       "      <th>3</th>\n",
       "      <td>Manchester United</td>\n",
       "      <td>Winter</td>\n",
       "      <td>22 - 23</td>\n",
       "      <td>243.28</td>\n",
       "      <td>NaN</td>\n",
       "      <td>NaN</td>\n",
       "      <td>NaN</td>\n",
       "      <td>NaN</td>\n",
       "      <td>NaN</td>\n",
       "      <td>NaN</td>\n",
       "      <td>NaN</td>\n",
       "    </tr>\n",
       "    <tr>\n",
       "      <th>4</th>\n",
       "      <td>Tottenham</td>\n",
       "      <td>Winter</td>\n",
       "      <td>22 - 23</td>\n",
       "      <td>177.90</td>\n",
       "      <td>NaN</td>\n",
       "      <td>NaN</td>\n",
       "      <td>NaN</td>\n",
       "      <td>NaN</td>\n",
       "      <td>NaN</td>\n",
       "      <td>NaN</td>\n",
       "      <td>NaN</td>\n",
       "    </tr>\n",
       "  </tbody>\n",
       "</table>\n",
       "</div>"
      ],
      "text/plain": [
       "                Team  Window   Season  Expenditure  Rank  Matches Played  Win  \\\n",
       "0            Arsenal  Winter  22 - 23       192.36   NaN             NaN  NaN   \n",
       "1    Manchester City  Winter  22 - 23       150.50   NaN             NaN  NaN   \n",
       "2          Newcastle  Winter  22 - 23       185.35   NaN             NaN  NaN   \n",
       "3  Manchester United  Winter  22 - 23       243.28   NaN             NaN  NaN   \n",
       "4          Tottenham  Winter  22 - 23       177.90   NaN             NaN  NaN   \n",
       "\n",
       "   Draw  Lost  Points  Win Percent  \n",
       "0   NaN   NaN     NaN          NaN  \n",
       "1   NaN   NaN     NaN          NaN  \n",
       "2   NaN   NaN     NaN          NaN  \n",
       "3   NaN   NaN     NaN          NaN  \n",
       "4   NaN   NaN     NaN          NaN  "
      ]
     },
     "execution_count": 51,
     "metadata": {},
     "output_type": "execute_result"
    }
   ],
   "source": [
    "# Importing Data Frame\n",
    "df = pd.read_excel(\"EPL Transfer Spend.xlsx\")\n",
    "df.head()"
   ]
  },
  {
   "cell_type": "code",
   "execution_count": 52,
   "metadata": {},
   "outputs": [
    {
     "data": {
      "text/html": [
       "<div>\n",
       "<style scoped>\n",
       "    .dataframe tbody tr th:only-of-type {\n",
       "        vertical-align: middle;\n",
       "    }\n",
       "\n",
       "    .dataframe tbody tr th {\n",
       "        vertical-align: top;\n",
       "    }\n",
       "\n",
       "    .dataframe thead th {\n",
       "        text-align: right;\n",
       "    }\n",
       "</style>\n",
       "<table border=\"1\" class=\"dataframe\">\n",
       "  <thead>\n",
       "    <tr style=\"text-align: right;\">\n",
       "      <th></th>\n",
       "      <th></th>\n",
       "      <th>Team</th>\n",
       "      <th>Window</th>\n",
       "      <th>Season</th>\n",
       "      <th>Expenditure</th>\n",
       "      <th>Rank</th>\n",
       "      <th>Matches Played</th>\n",
       "      <th>Win</th>\n",
       "      <th>Draw</th>\n",
       "      <th>Lost</th>\n",
       "      <th>Points</th>\n",
       "      <th>Win Percent</th>\n",
       "    </tr>\n",
       "    <tr>\n",
       "      <th>Season</th>\n",
       "      <th>Window</th>\n",
       "      <th></th>\n",
       "      <th></th>\n",
       "      <th></th>\n",
       "      <th></th>\n",
       "      <th></th>\n",
       "      <th></th>\n",
       "      <th></th>\n",
       "      <th></th>\n",
       "      <th></th>\n",
       "      <th></th>\n",
       "      <th></th>\n",
       "    </tr>\n",
       "  </thead>\n",
       "  <tbody>\n",
       "    <tr>\n",
       "      <th rowspan=\"5\" valign=\"top\">22 - 23</th>\n",
       "      <th>Winter</th>\n",
       "      <td>Arsenal</td>\n",
       "      <td>Winter</td>\n",
       "      <td>22 - 23</td>\n",
       "      <td>192.36</td>\n",
       "      <td>NaN</td>\n",
       "      <td>NaN</td>\n",
       "      <td>NaN</td>\n",
       "      <td>NaN</td>\n",
       "      <td>NaN</td>\n",
       "      <td>NaN</td>\n",
       "      <td>NaN</td>\n",
       "    </tr>\n",
       "    <tr>\n",
       "      <th>Winter</th>\n",
       "      <td>Manchester City</td>\n",
       "      <td>Winter</td>\n",
       "      <td>22 - 23</td>\n",
       "      <td>150.50</td>\n",
       "      <td>NaN</td>\n",
       "      <td>NaN</td>\n",
       "      <td>NaN</td>\n",
       "      <td>NaN</td>\n",
       "      <td>NaN</td>\n",
       "      <td>NaN</td>\n",
       "      <td>NaN</td>\n",
       "    </tr>\n",
       "    <tr>\n",
       "      <th>Winter</th>\n",
       "      <td>Newcastle</td>\n",
       "      <td>Winter</td>\n",
       "      <td>22 - 23</td>\n",
       "      <td>185.35</td>\n",
       "      <td>NaN</td>\n",
       "      <td>NaN</td>\n",
       "      <td>NaN</td>\n",
       "      <td>NaN</td>\n",
       "      <td>NaN</td>\n",
       "      <td>NaN</td>\n",
       "      <td>NaN</td>\n",
       "    </tr>\n",
       "    <tr>\n",
       "      <th>Winter</th>\n",
       "      <td>Manchester United</td>\n",
       "      <td>Winter</td>\n",
       "      <td>22 - 23</td>\n",
       "      <td>243.28</td>\n",
       "      <td>NaN</td>\n",
       "      <td>NaN</td>\n",
       "      <td>NaN</td>\n",
       "      <td>NaN</td>\n",
       "      <td>NaN</td>\n",
       "      <td>NaN</td>\n",
       "      <td>NaN</td>\n",
       "    </tr>\n",
       "    <tr>\n",
       "      <th>Winter</th>\n",
       "      <td>Tottenham</td>\n",
       "      <td>Winter</td>\n",
       "      <td>22 - 23</td>\n",
       "      <td>177.90</td>\n",
       "      <td>NaN</td>\n",
       "      <td>NaN</td>\n",
       "      <td>NaN</td>\n",
       "      <td>NaN</td>\n",
       "      <td>NaN</td>\n",
       "      <td>NaN</td>\n",
       "      <td>NaN</td>\n",
       "    </tr>\n",
       "  </tbody>\n",
       "</table>\n",
       "</div>"
      ],
      "text/plain": [
       "                             Team  Window   Season  Expenditure  Rank  \\\n",
       "Season  Window                                                          \n",
       "22 - 23 Winter            Arsenal  Winter  22 - 23       192.36   NaN   \n",
       "        Winter    Manchester City  Winter  22 - 23       150.50   NaN   \n",
       "        Winter          Newcastle  Winter  22 - 23       185.35   NaN   \n",
       "        Winter  Manchester United  Winter  22 - 23       243.28   NaN   \n",
       "        Winter          Tottenham  Winter  22 - 23       177.90   NaN   \n",
       "\n",
       "                Matches Played  Win  Draw  Lost  Points  Win Percent  \n",
       "Season  Window                                                        \n",
       "22 - 23 Winter             NaN  NaN   NaN   NaN     NaN          NaN  \n",
       "        Winter             NaN  NaN   NaN   NaN     NaN          NaN  \n",
       "        Winter             NaN  NaN   NaN   NaN     NaN          NaN  \n",
       "        Winter             NaN  NaN   NaN   NaN     NaN          NaN  \n",
       "        Winter             NaN  NaN   NaN   NaN     NaN          NaN  "
      ]
     },
     "execution_count": 52,
     "metadata": {},
     "output_type": "execute_result"
    }
   ],
   "source": [
    "# Setting Index into Season and Window\n",
    "df.set_index([df[\"Season\"], df[\"Window\"]], inplace = True)\n",
    "df.head()"
   ]
  },
  {
   "cell_type": "code",
   "execution_count": 53,
   "metadata": {},
   "outputs": [],
   "source": [
    "# Sort each window per season into seperate data frames\n",
    "windowAndSeasons = []\n",
    "for season in df[\"Season\"].unique():\n",
    "    for window in df[\"Window\"].unique():\n",
    "        windowAndSeasons.append(df[(df[\"Season\"] == season) & (df[\"Window\"] == window)])"
   ]
  },
  {
   "cell_type": "code",
   "execution_count": 54,
   "metadata": {},
   "outputs": [
    {
     "data": {
      "text/plain": [
       "22"
      ]
     },
     "execution_count": 54,
     "metadata": {},
     "output_type": "execute_result"
    }
   ],
   "source": [
    "# Check there are 11 seasons and two windows per season in windowAndSeasons\n",
    "len(windowAndSeasons)"
   ]
  },
  {
   "cell_type": "code",
   "execution_count": 55,
   "metadata": {},
   "outputs": [
    {
     "data": {
      "text/plain": [
       "array(['Arsenal', 'Manchester City', 'Newcastle', 'Manchester United',\n",
       "       'Tottenham', 'Liverpool', 'Fulham', 'Chelsea', 'Brighton',\n",
       "       'Brentford', 'Crystal Palace', 'Aston Villa', 'Leicster City',\n",
       "       'Leeds United', 'Bournemouth', 'Everton', 'West Ham',\n",
       "       'Nottingham Forest', 'Wolves', 'Southampton', 'Burnley', 'Watford',\n",
       "       'Norwich City', 'West Brom', 'Sheffield United', 'Cardiff',\n",
       "       'Huddersfield', 'Swansea', 'Stoke City', 'Hull City',\n",
       "       'Middlesbrough', 'Sunderland', 'QPR', 'Wigan Athletic', 'Reading'],\n",
       "      dtype=object)"
      ]
     },
     "execution_count": 55,
     "metadata": {},
     "output_type": "execute_result"
    }
   ],
   "source": [
    "# Finding all the unique teams in all the seasons\n",
    "df['Team'].unique()"
   ]
  },
  {
   "cell_type": "code",
   "execution_count": 56,
   "metadata": {},
   "outputs": [],
   "source": [
    "#Assigning individual colors to each team\n",
    "team_color = {\"Arsenal\": \"#FF0000\", \"Manchester City\": \"#00E6FF\", \"Newcastle\": \"#FFFFFF\", \"Manchester United\": \"#D10505\", \n",
    "              \"Tottenham\": \"#070B89\", \"Liverpool\": \"#3F08080\", \"Fulham\": \"#000000\", \"Chelsea\": \"#4169E1\", \"Brighton\": \"#6495ED\",\n",
    "              \"Brentford\": \"#FF4500\", \"Crystal Palace\": \"#0000CD\", \"Aston Villa\": \"#8B008B\", \"Leicster City\": \"#1E90FF\", \n",
    "              \"Leeds United\": \"#DAA520\", \"Bournemouth\": \"#8B0000\", \"Everton\": \"#0000FF\", \"West Ham\": \"#800000\", \"Nottingham Forest\": \"#FFD700\",\n",
    "              \"Wolves\": \"#FFFF00\", \"Southampton\": \"#DC143C\", \"Burnley\": \"#C71585\", \"Watford\": \"#A52A2A\", \"Norwich City\": \"#ADFF2F\",\n",
    "              \"West Brom\": \"#483D8B\", \"Sheffield United\": \"#FF6347\", \"Cardiff\": \"#7B68EE\", \"Huddersfield\": \"#B0E0E6\",\n",
    "              \"Swansea\": \"#708090\", \"Stoke City\": \"#FA8072\", \"Hull City\": \"##F0E68C\", \"Middlesbrough\": \"#FF69B4\", \"Sunderland\": \"#CD5C5C\",\n",
    "              \"QPR\": \"#F0F8FF\", \"Wigan Athletic\": \"#32CD32\", \"Reading\": \"#CD853F\"}"
   ]
  },
  {
   "cell_type": "code",
   "execution_count": 57,
   "metadata": {},
   "outputs": [
    {
     "data": {
      "text/html": [
       "<div>\n",
       "<style scoped>\n",
       "    .dataframe tbody tr th:only-of-type {\n",
       "        vertical-align: middle;\n",
       "    }\n",
       "\n",
       "    .dataframe tbody tr th {\n",
       "        vertical-align: top;\n",
       "    }\n",
       "\n",
       "    .dataframe thead th {\n",
       "        text-align: right;\n",
       "    }\n",
       "</style>\n",
       "<table border=\"1\" class=\"dataframe\">\n",
       "  <thead>\n",
       "    <tr style=\"text-align: right;\">\n",
       "      <th></th>\n",
       "      <th></th>\n",
       "      <th>Team</th>\n",
       "      <th>Window</th>\n",
       "      <th>Season</th>\n",
       "      <th>Expenditure</th>\n",
       "      <th>Rank</th>\n",
       "      <th>Matches Played</th>\n",
       "      <th>Win</th>\n",
       "      <th>Draw</th>\n",
       "      <th>Lost</th>\n",
       "      <th>Points</th>\n",
       "      <th>Win Percent</th>\n",
       "    </tr>\n",
       "    <tr>\n",
       "      <th>Season</th>\n",
       "      <th>Window</th>\n",
       "      <th></th>\n",
       "      <th></th>\n",
       "      <th></th>\n",
       "      <th></th>\n",
       "      <th></th>\n",
       "      <th></th>\n",
       "      <th></th>\n",
       "      <th></th>\n",
       "      <th></th>\n",
       "      <th></th>\n",
       "      <th></th>\n",
       "    </tr>\n",
       "  </thead>\n",
       "  <tbody>\n",
       "    <tr>\n",
       "      <th rowspan=\"5\" valign=\"top\">21 - 22</th>\n",
       "      <th>Winter</th>\n",
       "      <td>Manchester City</td>\n",
       "      <td>Winter</td>\n",
       "      <td>21 - 22</td>\n",
       "      <td>138.9</td>\n",
       "      <td>1.0</td>\n",
       "      <td>38.0</td>\n",
       "      <td>29.0</td>\n",
       "      <td>6.0</td>\n",
       "      <td>3.0</td>\n",
       "      <td>93.0</td>\n",
       "      <td>0.763158</td>\n",
       "    </tr>\n",
       "    <tr>\n",
       "      <th>Winter</th>\n",
       "      <td>Liverpool</td>\n",
       "      <td>Winter</td>\n",
       "      <td>21 - 22</td>\n",
       "      <td>87.0</td>\n",
       "      <td>2.0</td>\n",
       "      <td>38.0</td>\n",
       "      <td>28.0</td>\n",
       "      <td>8.0</td>\n",
       "      <td>2.0</td>\n",
       "      <td>92.0</td>\n",
       "      <td>0.736842</td>\n",
       "    </tr>\n",
       "    <tr>\n",
       "      <th>Winter</th>\n",
       "      <td>Chelsea</td>\n",
       "      <td>Winter</td>\n",
       "      <td>21 - 22</td>\n",
       "      <td>118.0</td>\n",
       "      <td>3.0</td>\n",
       "      <td>38.0</td>\n",
       "      <td>21.0</td>\n",
       "      <td>11.0</td>\n",
       "      <td>6.0</td>\n",
       "      <td>74.0</td>\n",
       "      <td>0.552632</td>\n",
       "    </tr>\n",
       "    <tr>\n",
       "      <th>Winter</th>\n",
       "      <td>Tottenham</td>\n",
       "      <td>Winter</td>\n",
       "      <td>21 - 22</td>\n",
       "      <td>95.9</td>\n",
       "      <td>4.0</td>\n",
       "      <td>38.0</td>\n",
       "      <td>22.0</td>\n",
       "      <td>5.0</td>\n",
       "      <td>11.0</td>\n",
       "      <td>71.0</td>\n",
       "      <td>0.578947</td>\n",
       "    </tr>\n",
       "    <tr>\n",
       "      <th>Winter</th>\n",
       "      <td>Arsenal</td>\n",
       "      <td>Winter</td>\n",
       "      <td>21 - 22</td>\n",
       "      <td>167.4</td>\n",
       "      <td>5.0</td>\n",
       "      <td>38.0</td>\n",
       "      <td>22.0</td>\n",
       "      <td>3.0</td>\n",
       "      <td>13.0</td>\n",
       "      <td>69.0</td>\n",
       "      <td>0.578947</td>\n",
       "    </tr>\n",
       "  </tbody>\n",
       "</table>\n",
       "</div>"
      ],
      "text/plain": [
       "                           Team  Window   Season  Expenditure  Rank  \\\n",
       "Season  Window                                                        \n",
       "21 - 22 Winter  Manchester City  Winter  21 - 22        138.9   1.0   \n",
       "        Winter        Liverpool  Winter  21 - 22         87.0   2.0   \n",
       "        Winter          Chelsea  Winter  21 - 22        118.0   3.0   \n",
       "        Winter        Tottenham  Winter  21 - 22         95.9   4.0   \n",
       "        Winter          Arsenal  Winter  21 - 22        167.4   5.0   \n",
       "\n",
       "                Matches Played   Win  Draw  Lost  Points  Win Percent  \n",
       "Season  Window                                                         \n",
       "21 - 22 Winter            38.0  29.0   6.0   3.0    93.0     0.763158  \n",
       "        Winter            38.0  28.0   8.0   2.0    92.0     0.736842  \n",
       "        Winter            38.0  21.0  11.0   6.0    74.0     0.552632  \n",
       "        Winter            38.0  22.0   5.0  11.0    71.0     0.578947  \n",
       "        Winter            38.0  22.0   3.0  13.0    69.0     0.578947  "
      ]
     },
     "execution_count": 57,
     "metadata": {},
     "output_type": "execute_result"
    }
   ],
   "source": [
    "# Creating a new list of seasons without half seasons\n",
    "noHalfSeasons = windowAndSeasons\n",
    "del noHalfSeasons[:2]\n",
    "noHalfSeasons[0].head() # Begins with 21-22 season now instead of the 22-23 season"
   ]
  },
  {
   "cell_type": "code",
   "execution_count": 58,
   "metadata": {},
   "outputs": [
    {
     "name": "stdout",
     "output_type": "stream",
     "text": [
      "Correlation: 0.5860901919040957\n",
      "R-squared: 0.3435017130461796\n",
      "P: 0.006613810777630987\n",
      "Standard Error:0.09106888494792388\n"
     ]
    },
    {
     "data": {
      "image/png": "[encoded data removed]",
      "text/plain": [
       "<Figure size 432x288 with 1 Axes>"
      ]
     },
     "metadata": {
      "needs_background": "light"
     },
     "output_type": "display_data"
    }
   ],
   "source": [
    "# Creating the graphs for 22-23 season\n",
    "plt.scatter(windowAndSeasons[0][\"Expenditure\"], windowAndSeasons[0][\"Points\"], color = \"blue\", s = 10)\n",
    "\n",
    "# Creating a linear model for the 22-23 season \n",
    "slope, intercept, r, p, std_error = stats.linregress(windowAndSeasons[0][\"Expenditure\"], windowAndSeasons[0][\"Points\"])\n",
    "\n",
    "# Formulating the model\n",
    "x_model = np.linspace(windowAndSeasons[0][\"Expenditure\"].min(), windowAndSeasons[0][\"Expenditure\"].max())\n",
    "y_model = intercept + slope * x_model\n",
    "plt.plot(x_model, y_model, color = \"red\")\n",
    "\n",
    "print(f\"Correlation: {windowAndSeasons[0].corr()['Expenditure']['Points']}\\nR-squared: {r**2}\\nP: {p}\\nStandard Error:{std_error}\")"
   ]
  },
  {
   "cell_type": "code",
   "execution_count": 59,
   "metadata": {},
   "outputs": [
    {
     "data": {
      "image/png": "[encoded data removed]",
      "text/plain": [
       "<Figure size 1080x3600 with 20 Axes>"
      ]
     },
     "metadata": {
      "needs_background": "light"
     },
     "output_type": "display_data"
    }
   ],
   "source": [
    "# Dictionary of graphical analysis\n",
    "summary_plots = {}\n",
    "\n",
    "# Subplots for all the graphs\n",
    "fig, ((axs1, axs2), (axs3, axs4), (axs5, axs6), (axs7, axs8), (axs9, axs10), (axs11, axs12), (axs13, axs14), (axs15, axs16), (axs17, axs18), \n",
    "      (axs19, axs20))= plt.subplots(10, 2, sharex = True, sharey = True, figsize = (15, 50))\n",
    "axs = [axs1, axs2, axs3, axs4, axs5, axs6, axs7, axs8, axs9, axs10, axs11, axs12, axs13, axs14, axs15, axs16, axs17, axs18, axs19, axs20]\n",
    "\n",
    "for i, j in zip(range(0, len(noHalfSeasons), 2), range(1, len(noHalfSeasons), 2)):\n",
    "    axs[i].scatter(noHalfSeasons[i]['Expenditure'], noHalfSeasons[i][\"Points\"], color = \"blue\", s = 10)\n",
    "    axs[j].scatter(noHalfSeasons[j][\"Expenditure\"], noHalfSeasons[j][\"Points\"], color = \"blue\", s = 10)\n",
    "    \n",
    "    slope1, intercept1, r1, p1, std_error1 = stats.linregress(noHalfSeasons[i][\"Expenditure\"], noHalfSeasons[i][\"Points\"])\n",
    "    slope2, intercept2, r2, p2, std_error2 = stats.linregress(noHalfSeasons[j][\"Expenditure\"], noHalfSeasons[j][\"Points\"])\n",
    "    \n",
    "    # Linear model for winter transfer window data\n",
    "    x_model1 = np.linspace(noHalfSeasons[i][\"Expenditure\"].min(), noHalfSeasons[i][\"Expenditure\"].max())\n",
    "    y_model1 = intercept1 + slope1 * x_model1\n",
    "    axs[i].plot(x_model1, y_model1, color = \"red\")\n",
    "    \n",
    "    summary_plots[noHalfSeasons[i].iloc[0][1:2].name] = [noHalfSeasons[i].corr()['Expenditure']['Points'], r1, p1, std_error1]\n",
    "    \n",
    "    # Linear model for summer transfer window data\n",
    "    x_model2 = np.linspace(noHalfSeasons[j][\"Expenditure\"].min(), noHalfSeasons[j][\"Expenditure\"].max())\n",
    "    y_model2 = intercept2 + slope2 * x_model2\n",
    "    axs[j].plot(x_model2, y_model2, color = \"red\")\n",
    "    \n",
    "    summary_plots[noHalfSeasons[j].iloc[0][1:2].name] = [noHalfSeasons[j].corr()['Expenditure']['Points'], r2, p2, std_error2]"
   ]
  },
  {
   "cell_type": "code",
   "execution_count": 60,
   "metadata": {},
   "outputs": [
    {
     "name": "stdout",
     "output_type": "stream",
     "text": [
      "{'Correlation': 0.48276702988327064, 'R-Squared': 0.48276702988327075, 'p': 0.1504680103527134, 'Std Error': 0.042261982603620386}\n",
      "{'Correlation': 0.5574040650735759, 'R-Squared': 0.5574040650735759, 'p': 0.09633755392042562, 'Std Error': 0.07215825122372174}\n"
     ]
    }
   ],
   "source": [
    "sample_values_summer = {}\n",
    "sample_values_winter = {}\n",
    "\n",
    "# Sample correlation of non-half seasons for summer transfer windows\n",
    "corr_summer = []\n",
    "for tw in summary_plots:\n",
    "    if \"Summer\" in tw:\n",
    "        corr_summer.append(summary_plots[tw][0])\n",
    "sample_values_summer[\"Correlation\"] = sum(corr_summer)/len(corr_summer)\n",
    "\n",
    "# Sample correlation of non-half seasons for winter transfer windows\n",
    "corr_winter= []\n",
    "for tw in summary_plots:\n",
    "    if \"Winter\" in tw:\n",
    "        corr_winter.append(summary_plots[tw][0])\n",
    "sample_values_winter[\"Correlation\"] = sum(corr_winter)/len(corr_winter)\n",
    "\n",
    "# Sample r-squared of non-half seasons for summer transfer windows\n",
    "r2_summer = []\n",
    "for tw in summary_plots:\n",
    "    if \"Summer\" in tw:\n",
    "        r2_summer.append(summary_plots[tw][1])\n",
    "sample_values_summer[\"R-Squared\"] = sum(r2_summer)/len(r2_summer)\n",
    "\n",
    "# Sample r-squared of non-half seasons for winter transfer windows\n",
    "r2_winter= []\n",
    "for tw in summary_plots:\n",
    "    if \"Winter\" in tw:\n",
    "        r2_winter.append(summary_plots[tw][1])\n",
    "sample_values_winter[\"R-Squared\"] = sum(r2_winter)/len(r2_winter)\n",
    "\n",
    "# Sample p value of non-half seasons for summer transfer windows\n",
    "p_summer = []\n",
    "for tw in summary_plots:\n",
    "    if \"Summer\" in tw:\n",
    "        p_summer.append(summary_plots[tw][2])\n",
    "sample_values_summer[\"p\"] = sum(p_summer)/len(p_summer)\n",
    "\n",
    "# Sample p valueof non-half seasons for winter transfer windows\n",
    "p_winter= []\n",
    "for tw in summary_plots:\n",
    "    if \"Winter\" in tw:\n",
    "        p_winter.append(summary_plots[tw][2])\n",
    "sample_values_winter[\"p\"] = sum(p_winter)/len(p_winter)\n",
    "\n",
    "# Sample standard error of non-half seasons for summer transfer windows\n",
    "std_error_summer = []\n",
    "for tw in summary_plots:\n",
    "    if \"Summer\" in tw:\n",
    "        std_error_summer.append(summary_plots[tw][3])\n",
    "sample_values_summer[\"Std Error\"] = sum(std_error_summer)/len(std_error_summer)\n",
    "\n",
    "# Sample standard error of non-half seasons for winter transfer windows\n",
    "std_error_winter= []\n",
    "for tw in summary_plots:\n",
    "    if \"Winter\" in tw:\n",
    "        std_error_winter.append(summary_plots[tw][3])\n",
    "sample_values_winter[\"Std Error\"] = sum(std_error_winter)/len(std_error_winter)\n",
    "\n",
    "print(sample_values_summer)\n",
    "print(sample_values_winter)"
   ]
  },
  {
   "cell_type": "code",
   "execution_count": 61,
   "metadata": {},
   "outputs": [],
   "source": [
    "# Splitting the data set into X and Y values for summer and winter windows\n",
    "X_summer = []\n",
    "for n in df[df[\"Window\"] == \"Summer\"].iloc[:, 3].values:\n",
    "    X_summer.append([n])\n",
    "y_summer = []\n",
    "for n in df[df[\"Window\"] == \"Summer\"].iloc[:, 9].values:\n",
    "    y_summer.append([n])\n",
    "X_winter = []\n",
    "for n in df[df[\"Window\"] == \"Winter\"].iloc[:, 3].values:\n",
    "    X_winter.append([n])\n",
    "y_winter = []\n",
    "for n in df[df[\"Window\"] == \"Winter\"].iloc[:, 9].values:\n",
    "    y_winter.append([n])"
   ]
  },
  {
   "cell_type": "code",
   "execution_count": 64,
   "metadata": {},
   "outputs": [],
   "source": [
    "# Splitting the data into train and test sets\n",
    "X_summer_train = X_summer[20:]\n",
    "X_summer_test = X_summer[:20]\n",
    "y_summer_train = y_summer[20:]\n",
    "y_summer_test = y_summer[:20]\n",
    "X_winter_train = X_winter[20:]\n",
    "X_winter_test = X_winter[:20]\n",
    "y_winter_train = y_winter[20:]"
   ]
  },
  {
   "cell_type": "code",
   "execution_count": 65,
   "metadata": {},
   "outputs": [
    {
     "data": {
      "text/plain": [
       "LinearRegression()"
      ]
     },
     "execution_count": 65,
     "metadata": {},
     "output_type": "execute_result"
    }
   ],
   "source": [
    "from sklearn.linear_model import LinearRegression\n",
    "model_summer = LinearRegression()\n",
    "model_summer.fit(X_summer_train, y_summer_train)\n",
    "model_winter = LinearRegression()\n",
    "model_winter.fit(X_winter_train, y_winter_train)"
   ]
  },
  {
   "cell_type": "code",
   "execution_count": 66,
   "metadata": {},
   "outputs": [],
   "source": [
    "y_summer_pred = model_summer.predict(X_summer_test)\n",
    "y_winter_pred = model_winter.predict(X_winter_test)"
   ]
  },
  {
   "cell_type": "code",
   "execution_count": 67,
   "metadata": {},
   "outputs": [
    {
     "data": {
      "text/plain": [
       "[<matplotlib.lines.Line2D at 0x7f92877b9fd0>]"
      ]
     },
     "execution_count": 67,
     "metadata": {},
     "output_type": "execute_result"
    },
    {
     "data": {
      "image/png": "[encoded data removed]",
      "text/plain": [
       "<Figure size 432x288 with 2 Axes>"
      ]
     },
     "metadata": {
      "needs_background": "light"
     },
     "output_type": "display_data"
    }
   ],
   "source": [
    "fig, ((axs1, axs2)) = plt.subplots(1, 2, sharex = True, sharey = True)\n",
    "\n",
    "axs1.scatter(X_summer_test, y_summer_test, color = \"red\")\n",
    "axs1.plot(X_summer_train, model_summer.predict(X_summer_train), color = \"blue\")\n",
    "axs2.scatter(X_winter_test, y_winter_test, color = \"red\")\n",
    "axs2.plot(X_winter_train, model_winter.predict(X_winter_train), color = \"blue\")"
   ]
  },
  {
   "cell_type": "code",
   "execution_count": null,
   "metadata": {},
   "outputs": [],
   "source": []
  }
 ],
 "metadata": {
  "kernelspec": {
   "display_name": "Python 3 (ipykernel)",
   "language": "python",
   "name": "python3"
  },
  "language_info": {
   "codemirror_mode": {
    "name": "ipython",
    "version": 3
   },
   "file_extension": ".py",
   "mimetype": "text/x-python",
   "name": "python",
   "nbconvert_exporter": "python",
   "pygments_lexer": "ipython3",
   "version": "3.9.12"
  },
  "vscode": {
   "interpreter": {
    "hash": "aee8b7b246df8f9039afb4144a1f6fd8d2ca17a180786b69acc140d282b71a49"
   }
  }
 },
 "nbformat": 4,
 "nbformat_minor": 4
}
