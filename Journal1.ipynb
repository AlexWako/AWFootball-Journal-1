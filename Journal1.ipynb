{
 "cells": [
  {
   "cell_type": "code",
   "execution_count": 2,
   "metadata": {},
   "outputs": [],
   "source": [
    "# Importing Libraries\n",
    "import pandas as pd\n",
    "import numpy as np\n",
    "import matplotlib.pyplot as plt\n",
    "import seaborn as sns"
   ]
  },
  {
   "cell_type": "code",
   "execution_count": 3,
   "metadata": {},
   "outputs": [
    {
     "data": {
      "text/html": [
       "<div>\n",
       "<style scoped>\n",
       "    .dataframe tbody tr th:only-of-type {\n",
       "        vertical-align: middle;\n",
       "    }\n",
       "\n",
       "    .dataframe tbody tr th {\n",
       "        vertical-align: top;\n",
       "    }\n",
       "\n",
       "    .dataframe thead th {\n",
       "        text-align: right;\n",
       "    }\n",
       "</style>\n",
       "<table border=\"1\" class=\"dataframe\">\n",
       "  <thead>\n",
       "    <tr style=\"text-align: right;\">\n",
       "      <th></th>\n",
       "      <th>Team</th>\n",
       "      <th>Window</th>\n",
       "      <th>Season</th>\n",
       "      <th>Expenditure</th>\n",
       "      <th>Rank</th>\n",
       "      <th>Matches Played</th>\n",
       "      <th>Win</th>\n",
       "      <th>Draw</th>\n",
       "      <th>Lost</th>\n",
       "      <th>Points</th>\n",
       "      <th>Win Percent</th>\n",
       "    </tr>\n",
       "  </thead>\n",
       "  <tbody>\n",
       "    <tr>\n",
       "      <th>0</th>\n",
       "      <td>Arsenal</td>\n",
       "      <td>Summer</td>\n",
       "      <td>22 - 23</td>\n",
       "      <td>132.06</td>\n",
       "      <td>1</td>\n",
       "      <td>16</td>\n",
       "      <td>14</td>\n",
       "      <td>1</td>\n",
       "      <td>1</td>\n",
       "      <td>43</td>\n",
       "      <td>0.875000</td>\n",
       "    </tr>\n",
       "    <tr>\n",
       "      <th>1</th>\n",
       "      <td>Manchester City</td>\n",
       "      <td>Summer</td>\n",
       "      <td>22 - 23</td>\n",
       "      <td>139.50</td>\n",
       "      <td>2</td>\n",
       "      <td>16</td>\n",
       "      <td>11</td>\n",
       "      <td>3</td>\n",
       "      <td>2</td>\n",
       "      <td>36</td>\n",
       "      <td>0.687500</td>\n",
       "    </tr>\n",
       "    <tr>\n",
       "      <th>2</th>\n",
       "      <td>Newcastle</td>\n",
       "      <td>Summer</td>\n",
       "      <td>22 - 23</td>\n",
       "      <td>136.00</td>\n",
       "      <td>3</td>\n",
       "      <td>17</td>\n",
       "      <td>9</td>\n",
       "      <td>7</td>\n",
       "      <td>1</td>\n",
       "      <td>34</td>\n",
       "      <td>0.529412</td>\n",
       "    </tr>\n",
       "    <tr>\n",
       "      <th>3</th>\n",
       "      <td>Manchester United</td>\n",
       "      <td>Summer</td>\n",
       "      <td>22 - 23</td>\n",
       "      <td>240.32</td>\n",
       "      <td>4</td>\n",
       "      <td>16</td>\n",
       "      <td>10</td>\n",
       "      <td>2</td>\n",
       "      <td>4</td>\n",
       "      <td>32</td>\n",
       "      <td>0.625000</td>\n",
       "    </tr>\n",
       "    <tr>\n",
       "      <th>4</th>\n",
       "      <td>Tottenham</td>\n",
       "      <td>Summer</td>\n",
       "      <td>22 - 23</td>\n",
       "      <td>169.90</td>\n",
       "      <td>5</td>\n",
       "      <td>17</td>\n",
       "      <td>9</td>\n",
       "      <td>3</td>\n",
       "      <td>5</td>\n",
       "      <td>30</td>\n",
       "      <td>0.529412</td>\n",
       "    </tr>\n",
       "  </tbody>\n",
       "</table>\n",
       "</div>"
      ],
      "text/plain": [
       "                Team  Window   Season  Expenditure  Rank  Matches Played  Win  \\\n",
       "0            Arsenal  Summer  22 - 23       132.06     1              16   14   \n",
       "1    Manchester City  Summer  22 - 23       139.50     2              16   11   \n",
       "2          Newcastle  Summer  22 - 23       136.00     3              17    9   \n",
       "3  Manchester United  Summer  22 - 23       240.32     4              16   10   \n",
       "4          Tottenham  Summer  22 - 23       169.90     5              17    9   \n",
       "\n",
       "   Draw  Lost  Points  Win Percent  \n",
       "0     1     1      43     0.875000  \n",
       "1     3     2      36     0.687500  \n",
       "2     7     1      34     0.529412  \n",
       "3     2     4      32     0.625000  \n",
       "4     3     5      30     0.529412  "
      ]
     },
     "execution_count": 3,
     "metadata": {},
     "output_type": "execute_result"
    }
   ],
   "source": [
    "# Importing Data Frame\n",
    "df = pd.read_excel(\"EPL Transfer Spend.xlsx\")\n",
    "df.head()"
   ]
  },
  {
   "cell_type": "code",
   "execution_count": 4,
   "metadata": {},
   "outputs": [
    {
     "data": {
      "text/html": [
       "<div>\n",
       "<style scoped>\n",
       "    .dataframe tbody tr th:only-of-type {\n",
       "        vertical-align: middle;\n",
       "    }\n",
       "\n",
       "    .dataframe tbody tr th {\n",
       "        vertical-align: top;\n",
       "    }\n",
       "\n",
       "    .dataframe thead th {\n",
       "        text-align: right;\n",
       "    }\n",
       "</style>\n",
       "<table border=\"1\" class=\"dataframe\">\n",
       "  <thead>\n",
       "    <tr style=\"text-align: right;\">\n",
       "      <th></th>\n",
       "      <th></th>\n",
       "      <th>Team</th>\n",
       "      <th>Window</th>\n",
       "      <th>Season</th>\n",
       "      <th>Expenditure</th>\n",
       "      <th>Rank</th>\n",
       "      <th>Matches Played</th>\n",
       "      <th>Win</th>\n",
       "      <th>Draw</th>\n",
       "      <th>Lost</th>\n",
       "      <th>Points</th>\n",
       "      <th>Win Percent</th>\n",
       "    </tr>\n",
       "    <tr>\n",
       "      <th>Season</th>\n",
       "      <th>Window</th>\n",
       "      <th></th>\n",
       "      <th></th>\n",
       "      <th></th>\n",
       "      <th></th>\n",
       "      <th></th>\n",
       "      <th></th>\n",
       "      <th></th>\n",
       "      <th></th>\n",
       "      <th></th>\n",
       "      <th></th>\n",
       "      <th></th>\n",
       "    </tr>\n",
       "  </thead>\n",
       "  <tbody>\n",
       "    <tr>\n",
       "      <th rowspan=\"5\" valign=\"top\">22 - 23</th>\n",
       "      <th>Summer</th>\n",
       "      <td>Arsenal</td>\n",
       "      <td>Summer</td>\n",
       "      <td>22 - 23</td>\n",
       "      <td>132.06</td>\n",
       "      <td>1</td>\n",
       "      <td>16</td>\n",
       "      <td>14</td>\n",
       "      <td>1</td>\n",
       "      <td>1</td>\n",
       "      <td>43</td>\n",
       "      <td>0.875000</td>\n",
       "    </tr>\n",
       "    <tr>\n",
       "      <th>Summer</th>\n",
       "      <td>Manchester City</td>\n",
       "      <td>Summer</td>\n",
       "      <td>22 - 23</td>\n",
       "      <td>139.50</td>\n",
       "      <td>2</td>\n",
       "      <td>16</td>\n",
       "      <td>11</td>\n",
       "      <td>3</td>\n",
       "      <td>2</td>\n",
       "      <td>36</td>\n",
       "      <td>0.687500</td>\n",
       "    </tr>\n",
       "    <tr>\n",
       "      <th>Summer</th>\n",
       "      <td>Newcastle</td>\n",
       "      <td>Summer</td>\n",
       "      <td>22 - 23</td>\n",
       "      <td>136.00</td>\n",
       "      <td>3</td>\n",
       "      <td>17</td>\n",
       "      <td>9</td>\n",
       "      <td>7</td>\n",
       "      <td>1</td>\n",
       "      <td>34</td>\n",
       "      <td>0.529412</td>\n",
       "    </tr>\n",
       "    <tr>\n",
       "      <th>Summer</th>\n",
       "      <td>Manchester United</td>\n",
       "      <td>Summer</td>\n",
       "      <td>22 - 23</td>\n",
       "      <td>240.32</td>\n",
       "      <td>4</td>\n",
       "      <td>16</td>\n",
       "      <td>10</td>\n",
       "      <td>2</td>\n",
       "      <td>4</td>\n",
       "      <td>32</td>\n",
       "      <td>0.625000</td>\n",
       "    </tr>\n",
       "    <tr>\n",
       "      <th>Summer</th>\n",
       "      <td>Tottenham</td>\n",
       "      <td>Summer</td>\n",
       "      <td>22 - 23</td>\n",
       "      <td>169.90</td>\n",
       "      <td>5</td>\n",
       "      <td>17</td>\n",
       "      <td>9</td>\n",
       "      <td>3</td>\n",
       "      <td>5</td>\n",
       "      <td>30</td>\n",
       "      <td>0.529412</td>\n",
       "    </tr>\n",
       "  </tbody>\n",
       "</table>\n",
       "</div>"
      ],
      "text/plain": [
       "                             Team  Window   Season  Expenditure  Rank  \\\n",
       "Season  Window                                                          \n",
       "22 - 23 Summer            Arsenal  Summer  22 - 23       132.06     1   \n",
       "        Summer    Manchester City  Summer  22 - 23       139.50     2   \n",
       "        Summer          Newcastle  Summer  22 - 23       136.00     3   \n",
       "        Summer  Manchester United  Summer  22 - 23       240.32     4   \n",
       "        Summer          Tottenham  Summer  22 - 23       169.90     5   \n",
       "\n",
       "                Matches Played  Win  Draw  Lost  Points  Win Percent  \n",
       "Season  Window                                                        \n",
       "22 - 23 Summer              16   14     1     1      43     0.875000  \n",
       "        Summer              16   11     3     2      36     0.687500  \n",
       "        Summer              17    9     7     1      34     0.529412  \n",
       "        Summer              16   10     2     4      32     0.625000  \n",
       "        Summer              17    9     3     5      30     0.529412  "
      ]
     },
     "execution_count": 4,
     "metadata": {},
     "output_type": "execute_result"
    }
   ],
   "source": [
    "# Setting Index into Season and Window\n",
    "df.set_index([df[\"Season\"], df[\"Window\"]], inplace = True)\n",
    "df.head()"
   ]
  },
  {
   "cell_type": "code",
   "execution_count": 5,
   "metadata": {},
   "outputs": [],
   "source": [
    "# Sort each window per season into seperate data frames\n",
    "windowAndSeasons = []\n",
    "for season in df[\"Season\"].unique():\n",
    "    for window in df[\"Window\"].unique():\n",
    "        windowAndSeasons.append(df[(df[\"Season\"] == season) & (df[\"Window\"] == window)])"
   ]
  },
  {
   "cell_type": "code",
   "execution_count": 6,
   "metadata": {
    "scrolled": false
   },
   "outputs": [
    {
     "data": {
      "text/plain": [
       "22"
      ]
     },
     "execution_count": 6,
     "metadata": {},
     "output_type": "execute_result"
    }
   ],
   "source": [
    "# Check there are 11 seasons and two windows per season in windowAndSeasons\n",
    "len(windowAndSeasons)"
   ]
  },
  {
   "cell_type": "code",
   "execution_count": 7,
   "metadata": {},
   "outputs": [
    {
     "data": {
      "text/plain": [
       "array(['Arsenal', 'Manchester City', 'Newcastle', 'Manchester United',\n",
       "       'Tottenham', 'Liverpool', 'Fulham', 'Chelsea', 'Brighton',\n",
       "       'Brentford', 'Crystal Palace', 'Aston Villa', 'Leicster City',\n",
       "       'Leeds United', 'Bournemouth', 'Everton', 'West Ham',\n",
       "       'Nottingham Forest', 'Wolves', 'Southampton', 'Burnley', 'Watford',\n",
       "       'Norwich City', 'West Brom', 'Sheffield United', 'Cardiff',\n",
       "       'Huddersfield', 'Swansea', 'Stoke City', 'Hull City',\n",
       "       'Middlesbrough', 'Sunderland', 'QPR', 'Wigan Athletic', 'Reading'],\n",
       "      dtype=object)"
      ]
     },
     "execution_count": 7,
     "metadata": {},
     "output_type": "execute_result"
    }
   ],
   "source": [
    "# Finding all the unique teams in all the seasons\n",
    "df['Team'].unique()"
   ]
  },
  {
   "cell_type": "code",
   "execution_count": 8,
   "metadata": {},
   "outputs": [],
   "source": [
    "#Assigning individual colors to each team\n",
    "team_color = {\"Arsenal\": \"#FF0000\", \"Manchester City\": \"#00E6FF\", \"Newcastle\": \"#FFFFFF\", \"Manchester United\": \"#D10505\", \n",
    "              \"Tottenham\": \"#070B89\", \"Liverpool\": \"#3F08080\", \"Fulham\": \"#000000\", \"Chelsea\": \"#4169E1\", \"Brighton\": \"#6495ED\",\n",
    "              \"Brentford\": \"#FF4500\", \"Crystal Palace\": \"#0000CD\", \"Aston Villa\": \"#8B008B\", \"Leicster City\": \"#1E90FF\", \n",
    "              \"Leeds United\": \"#DAA520\", \"Bournemouth\": \"#8B0000\", \"Everton\": \"#0000FF\", \"West Ham\": \"#800000\", \"Nottingham Forest\": \"#FFD700\",\n",
    "              \"Wolves\": \"#FFFF00\", \"Southampton\": \"#DC143C\", \"Burnley\": \"#C71585\", \"Watford\": \"#A52A2A\", \"Norwich City\": \"#ADFF2F\",\n",
    "              \"West Brom\": \"#483D8B\", \"Sheffield United\": \"#FF6347\", \"Cardiff\": \"#7B68EE\", \"Huddersfield\": \"#B0E0E6\",\n",
    "              \"Swansea\": \"#708090\", \"Stoke City\": \"#FA8072\", \"Hull City\": \"##F0E68C\", \"Middlesbrough\": \"#FF69B4\", \"Sunderland\": \"#CD5C5C\",\n",
    "              \"QPR\": \"#F0F8FF\", \"Wigan Athletic\": \"#32CD32\", \"Reading\": \"#CD853F\"}"
   ]
  },
  {
   "cell_type": "code",
   "execution_count": 19,
   "metadata": {},
   "outputs": [
    {
     "data": {
      "text/plain": [
       "<matplotlib.collections.PathCollection at 0x7f9173c78130>"
      ]
     },
     "execution_count": 19,
     "metadata": {},
     "output_type": "execute_result"
    },
    {
     "data": {
      "image/png": "[encoded data removed]",
      "text/plain": [
       "<Figure size 432x288 with 1 Axes>"
      ]
     },
     "metadata": {
      "needs_background": "light"
     },
     "output_type": "display_data"
    }
   ],
   "source": [
    "# Creating the graphs for 22-23 season\n",
    "plt.scatter(windowAndSeasons[0][\"Expenditure\"], windowAndSeasons[0][\"Points\"], s = 10)"
   ]
  },
  {
   "cell_type": "code",
   "execution_count": 20,
   "metadata": {},
   "outputs": [
    {
     "data": {
      "text/html": [
       "<div>\n",
       "<style scoped>\n",
       "    .dataframe tbody tr th:only-of-type {\n",
       "        vertical-align: middle;\n",
       "    }\n",
       "\n",
       "    .dataframe tbody tr th {\n",
       "        vertical-align: top;\n",
       "    }\n",
       "\n",
       "    .dataframe thead th {\n",
       "        text-align: right;\n",
       "    }\n",
       "</style>\n",
       "<table border=\"1\" class=\"dataframe\">\n",
       "  <thead>\n",
       "    <tr style=\"text-align: right;\">\n",
       "      <th></th>\n",
       "      <th></th>\n",
       "      <th>Team</th>\n",
       "      <th>Window</th>\n",
       "      <th>Season</th>\n",
       "      <th>Expenditure</th>\n",
       "      <th>Rank</th>\n",
       "      <th>Matches Played</th>\n",
       "      <th>Win</th>\n",
       "      <th>Draw</th>\n",
       "      <th>Lost</th>\n",
       "      <th>Points</th>\n",
       "      <th>Win Percent</th>\n",
       "    </tr>\n",
       "    <tr>\n",
       "      <th>Season</th>\n",
       "      <th>Window</th>\n",
       "      <th></th>\n",
       "      <th></th>\n",
       "      <th></th>\n",
       "      <th></th>\n",
       "      <th></th>\n",
       "      <th></th>\n",
       "      <th></th>\n",
       "      <th></th>\n",
       "      <th></th>\n",
       "      <th></th>\n",
       "      <th></th>\n",
       "    </tr>\n",
       "  </thead>\n",
       "  <tbody>\n",
       "    <tr>\n",
       "      <th rowspan=\"5\" valign=\"top\">21 - 22</th>\n",
       "      <th>Summer</th>\n",
       "      <td>Manchester City</td>\n",
       "      <td>Summer</td>\n",
       "      <td>21 - 22</td>\n",
       "      <td>117.5</td>\n",
       "      <td>1</td>\n",
       "      <td>18</td>\n",
       "      <td>14</td>\n",
       "      <td>2</td>\n",
       "      <td>2</td>\n",
       "      <td>44</td>\n",
       "      <td>0.777778</td>\n",
       "    </tr>\n",
       "    <tr>\n",
       "      <th>Summer</th>\n",
       "      <td>Liverpool</td>\n",
       "      <td>Summer</td>\n",
       "      <td>21 - 22</td>\n",
       "      <td>40.0</td>\n",
       "      <td>2</td>\n",
       "      <td>18</td>\n",
       "      <td>12</td>\n",
       "      <td>5</td>\n",
       "      <td>1</td>\n",
       "      <td>41</td>\n",
       "      <td>0.666667</td>\n",
       "    </tr>\n",
       "    <tr>\n",
       "      <th>Summer</th>\n",
       "      <td>Chelsea</td>\n",
       "      <td>Summer</td>\n",
       "      <td>21 - 22</td>\n",
       "      <td>118.0</td>\n",
       "      <td>3</td>\n",
       "      <td>18</td>\n",
       "      <td>11</td>\n",
       "      <td>5</td>\n",
       "      <td>2</td>\n",
       "      <td>38</td>\n",
       "      <td>0.611111</td>\n",
       "    </tr>\n",
       "    <tr>\n",
       "      <th>Summer</th>\n",
       "      <td>Arsenal</td>\n",
       "      <td>Summer</td>\n",
       "      <td>21 - 22</td>\n",
       "      <td>165.6</td>\n",
       "      <td>4</td>\n",
       "      <td>18</td>\n",
       "      <td>10</td>\n",
       "      <td>2</td>\n",
       "      <td>6</td>\n",
       "      <td>32</td>\n",
       "      <td>0.555556</td>\n",
       "    </tr>\n",
       "    <tr>\n",
       "      <th>Summer</th>\n",
       "      <td>West Ham</td>\n",
       "      <td>Summer</td>\n",
       "      <td>21 - 22</td>\n",
       "      <td>74.5</td>\n",
       "      <td>5</td>\n",
       "      <td>17</td>\n",
       "      <td>8</td>\n",
       "      <td>4</td>\n",
       "      <td>5</td>\n",
       "      <td>28</td>\n",
       "      <td>0.470588</td>\n",
       "    </tr>\n",
       "  </tbody>\n",
       "</table>\n",
       "</div>"
      ],
      "text/plain": [
       "                           Team  Window   Season  Expenditure  Rank  \\\n",
       "Season  Window                                                        \n",
       "21 - 22 Summer  Manchester City  Summer  21 - 22        117.5     1   \n",
       "        Summer        Liverpool  Summer  21 - 22         40.0     2   \n",
       "        Summer          Chelsea  Summer  21 - 22        118.0     3   \n",
       "        Summer          Arsenal  Summer  21 - 22        165.6     4   \n",
       "        Summer         West Ham  Summer  21 - 22         74.5     5   \n",
       "\n",
       "                Matches Played  Win  Draw  Lost  Points  Win Percent  \n",
       "Season  Window                                                        \n",
       "21 - 22 Summer              18   14     2     2      44     0.777778  \n",
       "        Summer              18   12     5     1      41     0.666667  \n",
       "        Summer              18   11     5     2      38     0.611111  \n",
       "        Summer              18   10     2     6      32     0.555556  \n",
       "        Summer              17    8     4     5      28     0.470588  "
      ]
     },
     "execution_count": 20,
     "metadata": {},
     "output_type": "execute_result"
    }
   ],
   "source": [
    "# Creating a new list of seasons without half seasons\n",
    "noHalfSeasons = windowAndSeasons\n",
    "del noHalfSeasons[:2]\n",
    "noHalfSeasons[0].head() # Begins with 21-22 season now instead of the 22-23 season"
   ]
  },
  {
   "cell_type": "code",
   "execution_count": null,
   "metadata": {},
   "outputs": [],
   "source": [
    "sns.heatmap()"
   ]
  },
  {
   "cell_type": "code",
   "execution_count": 13,
   "metadata": {},
   "outputs": [
    {
     "data": {
      "image/png": "[encoded data removed]",
      "text/plain": [
       "<Figure size 1080x3600 with 20 Axes>"
      ]
     },
     "metadata": {
      "needs_background": "light"
     },
     "output_type": "display_data"
    }
   ],
   "source": [
    "# Subplots for all the graphs\n",
    "fig, ((axs1, axs2), (axs3, axs4), (axs5, axs6), (axs7, axs8), (axs9, axs10), (axs11, axs12), (axs13, axs14), (axs15, axs16), (axs17, axs18), \n",
    "      (axs19, axs20))= plt.subplots(10, 2, sharex = True, sharey = True, figsize = (15, 50))\n",
    "axs = [axs1, axs2, axs3, axs4, axs5, axs6, axs7, axs8, axs9, axs10, axs11, axs12, axs13, axs14, axs15, axs16, axs17, axs18, axs19, axs20]\n",
    "\n",
    "for i, j in zip(range(0, len(noHalfSeasons), 2), range(1, len(noHalfSeasons), 2)):\n",
    "    axs[i].scatter(noHalfSeasons[j]['Expenditure'], noHalfSeasons[j][\"Points\"], s = 10)\n",
    "    axs[j].scatter(noHalfSeasons[i][\"Expenditure\"], noHalfSeasons[i][\"Points\"], s = 10)"
   ]
  },
  {
   "cell_type": "code",
   "execution_count": null,
   "metadata": {},
   "outputs": [],
   "source": []
  }
 ],
 "metadata": {
  "kernelspec": {
   "display_name": "Python 3 (ipykernel)",
   "language": "python",
   "name": "python3"
  },
  "language_info": {
   "codemirror_mode": {
    "name": "ipython",
    "version": 3
   },
   "file_extension": ".py",
   "mimetype": "text/x-python",
   "name": "python",
   "nbconvert_exporter": "python",
   "pygments_lexer": "ipython3",
   "version": "3.9.12"
  },
  "vscode": {
   "interpreter": {
    "hash": "aee8b7b246df8f9039afb4144a1f6fd8d2ca17a180786b69acc140d282b71a49"
   }
  }
 },
 "nbformat": 4,
 "nbformat_minor": 2
}
